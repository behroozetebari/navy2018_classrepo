{
 "cells": [
  {
   "cell_type": "code",
   "execution_count": 1,
   "metadata": {},
   "outputs": [],
   "source": [
    "import os\n",
    "\n",
    "import numpy as np\n",
    "import flopy"
   ]
  },
  {
   "cell_type": "code",
   "execution_count": 2,
   "metadata": {},
   "outputs": [],
   "source": [
    "def rmse(sim, obs, locs):\n",
    "    acc = 0.\n",
    "    for loc in locs:\n",
    "        diff = sim[loc] - obs[loc]\n",
    "        acc += diff ** 2.\n",
    "    return np.sqrt(acc / np.float(len(locs)))"
   ]
  },
  {
   "cell_type": "code",
   "execution_count": 3,
   "metadata": {},
   "outputs": [],
   "source": [
    "# load the base model\n",
    "bws = os.path.join('..', 'base')\n",
    "m = flopy.modflow.Modflow.load('m.nam', version='mf2005', model_ws=bws, check=False)"
   ]
  },
  {
   "cell_type": "code",
   "execution_count": 4,
   "metadata": {},
   "outputs": [],
   "source": [
    "# observation location\n",
    "obs_locs = [(0,3,10),\n",
    "            (0,3,16),\n",
    "            (0,4,9),\n",
    "            (0,10,2),\n",
    "            (0,14,11),\n",
    "            (0,16,17),\n",
    "            (0,22,11),\n",
    "            (0,23,16),\n",
    "            (0,25,5),\n",
    "            (0,27,7),\n",
    "            (0,30,16),\n",
    "            (0,34,8),\n",
    "            (0,35,11),\n",
    "            (0,39,8),\n",
    "            (0,39,11),\n",
    "            (0,39,13)]"
   ]
  },
  {
   "cell_type": "code",
   "execution_count": 5,
   "metadata": {},
   "outputs": [],
   "source": [
    "# get list of active cells\n",
    "active_locs = []\n",
    "ib = m.bas6.ibound.array\n",
    "for i in range(ib.shape[1]):\n",
    "    for j in range(ib.shape[2]):\n",
    "        if ib[0, i, j] > 0:\n",
    "            active_locs.append((0, i, j))"
   ]
  },
  {
   "cell_type": "code",
   "execution_count": 6,
   "metadata": {},
   "outputs": [],
   "source": [
    "# get list of pumping well locations\n",
    "wels = m.wel.stress_period_data[1]\n",
    "well_locs = []\n",
    "for wel in wels:\n",
    "    well_locs.append((wel['k'], wel['i'], wel['j']))"
   ]
  },
  {
   "cell_type": "code",
   "execution_count": 7,
   "metadata": {},
   "outputs": [
    {
     "data": {
      "text/plain": [
       "['../hk/GroupA_HK.DAT',\n",
       " '../hk/GroupB_HK.DAT',\n",
       " '../hk/GroupC_HK.dat',\n",
       " '../hk/GroupC_prediction_HK.dat',\n",
       " '../hk/GroupD_HK.dat',\n",
       " '../hk/GroupE_EX04_HK.DAT',\n",
       " '../hk/GroupF_HK.DAT',\n",
       " '../hk/GroupG_freyberg_KH_matrix.dat']"
      ]
     },
     "execution_count": 7,
     "metadata": {},
     "output_type": "execute_result"
    }
   ],
   "source": [
    "# get list of hk files\n",
    "dpth = os.path.join('..', 'hk')\n",
    "hk_files = [os.path.join(dpth, fn) for fn in sorted(os.listdir(dpth)) \n",
    "            if os.path.splitext(os.path.join(dpth, fn))[1] in ['.DAT', '.dat']]\n",
    "hk_files"
   ]
  },
  {
   "cell_type": "code",
   "execution_count": 8,
   "metadata": {},
   "outputs": [],
   "source": [
    "# get list of calibration head files\n",
    "dpth = os.path.join('..', 'calibration-heads')\n",
    "calh_files = [os.path.join(dpth, fn) for fn in sorted(os.listdir(dpth)) if '.hds' in fn]"
   ]
  },
  {
   "cell_type": "code",
   "execution_count": 9,
   "metadata": {},
   "outputs": [],
   "source": [
    "# get list of predictive head files\n",
    "dpth = os.path.join('..', 'predictive-heads')\n",
    "predh_files = [os.path.join(dpth, fn) for fn in sorted(os.listdir(dpth)) if '.hds' in fn]"
   ]
  },
  {
   "cell_type": "code",
   "execution_count": 10,
   "metadata": {},
   "outputs": [],
   "source": [
    "# get true hk\n",
    "hktrue = m.lpf.hk.array\n",
    "hktrue.shape\n",
    "shape2d = hktrue[0, :, :].shape\n",
    "shape3d = hktrue.shape"
   ]
  },
  {
   "cell_type": "code",
   "execution_count": 11,
   "metadata": {},
   "outputs": [],
   "source": [
    "# get true calibration and predictive heads\n",
    "fpth = os.path.join(bws, 'm.hds')\n",
    "hobj = flopy.utils.HeadFile(fpth)\n",
    "ch = hobj.get_data(totim=1.) \n",
    "ph = hobj.get_data(totim=2.)"
   ]
  },
  {
   "cell_type": "code",
   "execution_count": 12,
   "metadata": {},
   "outputs": [
    {
     "name": "stdout",
     "output_type": "stream",
     "text": [
      "Observation Wells - Hydraulic Conductivity\n",
      "Group                RMSE\n",
      "-------------------------\n",
      "A                 2.53568\n",
      "B                 5.45795\n",
      "C                  3.0153\n",
      "C                  3.0153\n",
      "D                 2.43022\n",
      "E                 2.22261\n",
      "F                 2.90602\n",
      "G                 1.39776\n"
     ]
    }
   ],
   "source": [
    "print('Observation Wells - Hydraulic Conductivity')\n",
    "print('{:5s}{:>20s}'.format('Group', 'RMSE'))\n",
    "print(25*('-'))\n",
    "for fpth in hk_files:\n",
    "    sid = os.path.basename(fpth).split('_')[0].replace('Group', '')\n",
    "    d = np.loadtxt(fpth)\n",
    "    if d.shape != shape2d:\n",
    "        d = flopy.utils.Util2d.load_txt(shape2d, fpth, fmtin='(10e15.6)', dtype=np.float32)\n",
    "    d = d.reshape(shape3d)\n",
    "    v = rmse(d, hktrue, obs_locs)\n",
    "    print('{:5s}{:20g}'.format(sid, v))"
   ]
  },
  {
   "cell_type": "code",
   "execution_count": 13,
   "metadata": {},
   "outputs": [
    {
     "name": "stdout",
     "output_type": "stream",
     "text": [
      "Active Cells - Hydraulic Conductivity\n",
      "Group                RMSE\n",
      "-------------------------\n",
      "A                 2.25461\n",
      "B                 4.09774\n",
      "C                 2.30845\n",
      "C                 2.30845\n",
      "D                 2.35268\n",
      "E                 1.83573\n",
      "F                 2.24387\n",
      "G                 1.96397\n"
     ]
    }
   ],
   "source": [
    "print('Active Cells - Hydraulic Conductivity')\n",
    "print('{:5s}{:>20s}'.format('Group', 'RMSE'))\n",
    "print(25*('-'))\n",
    "for fpth in hk_files:\n",
    "    sid = os.path.basename(fpth).split('_')[0].replace('Group', '')\n",
    "    d = np.loadtxt(fpth)\n",
    "    if d.shape != shape2d:\n",
    "        d = flopy.utils.Util2d.load_txt(shape2d, fpth, fmtin='(10e15.6)', dtype=np.float32)\n",
    "    d = d.reshape(shape3d)\n",
    "    v = rmse(d, hktrue, active_locs)\n",
    "    print('{:5s}{:20g}'.format(sid, v))"
   ]
  },
  {
   "cell_type": "code",
   "execution_count": 14,
   "metadata": {},
   "outputs": [
    {
     "name": "stdout",
     "output_type": "stream",
     "text": [
      "Observation Well - Calibration\n",
      "Group                RMSE\n",
      "-------------------------\n",
      "A                 1.28112\n",
      "C                0.538722\n",
      "E                 1.27793\n",
      "G               0.0752089\n"
     ]
    }
   ],
   "source": [
    "print('Observation Well - Calibration')\n",
    "print('{:5s}{:>20s}'.format('Group', 'RMSE'))\n",
    "print(25*('-'))\n",
    "for fpth in calh_files:\n",
    "    sid = os.path.basename(fpth).split('_')[0].replace('Group', '')\n",
    "    hobj = flopy.utils.HeadFile(fpth)\n",
    "    h = hobj.get_data()\n",
    "    v = rmse(h, ch, obs_locs)\n",
    "    print('{:5s}{:20g}'.format(sid, v))\n",
    "    #rmseobs.append(rmse(h, calhtrue, active_locs))\n",
    "    #rmsecalh.append(rmse(h, calhtrue, obs_locs))\n",
    "    "
   ]
  },
  {
   "cell_type": "code",
   "execution_count": 15,
   "metadata": {},
   "outputs": [
    {
     "name": "stdout",
     "output_type": "stream",
     "text": [
      "Active Cells - Calibration\n",
      "Group                RMSE\n",
      "-------------------------\n",
      "A                0.815865\n",
      "C                0.604773\n",
      "E                 1.24863\n",
      "G                0.262018\n"
     ]
    }
   ],
   "source": [
    "print('Active Cells - Calibration')\n",
    "print('{:5s}{:>20s}'.format('Group', 'RMSE'))\n",
    "print(25*('-'))\n",
    "for fpth in calh_files:\n",
    "    sid = os.path.basename(fpth).split('_')[0].replace('Group', '')\n",
    "    hobj = flopy.utils.HeadFile(fpth)\n",
    "    h = hobj.get_data()\n",
    "    v = rmse(h, ch, active_locs)\n",
    "    print('{:5s}{:20g}'.format(sid, v))"
   ]
  },
  {
   "cell_type": "code",
   "execution_count": 16,
   "metadata": {},
   "outputs": [
    {
     "name": "stdout",
     "output_type": "stream",
     "text": [
      "Observation Well - Prediction\n",
      "Group                RMSE\n",
      "-------------------------\n",
      "A                 1.05826\n",
      "B                0.961334\n",
      "C                0.535769\n",
      "D                0.597594\n",
      "E                0.110573\n",
      "F                0.562801\n",
      "G               0.0852771\n"
     ]
    }
   ],
   "source": [
    "print('Observation Well - Prediction')\n",
    "print('{:5s}{:>20s}'.format('Group', 'RMSE'))\n",
    "print(25*('-'))\n",
    "for fpth in predh_files:\n",
    "    sid = os.path.basename(fpth).split('_')[0].replace('Group', '')\n",
    "    hobj = flopy.utils.HeadFile(fpth)\n",
    "    h = hobj.get_data()\n",
    "    v = rmse(h, ph, obs_locs)\n",
    "    print('{:5s}{:20g}'.format(sid, v))"
   ]
  },
  {
   "cell_type": "code",
   "execution_count": 17,
   "metadata": {},
   "outputs": [
    {
     "name": "stdout",
     "output_type": "stream",
     "text": [
      "Pumping Well - Prediction\n",
      "Group                RMSE\n",
      "-------------------------\n",
      "A                 1.69158\n",
      "B                 1.73671\n",
      "C                 2.08779\n",
      "D                   1.892\n",
      "E                 1.01928\n",
      "F             4.08248e+29\n",
      "G                 1.06388\n"
     ]
    }
   ],
   "source": [
    "print('Pumping Well - Prediction')\n",
    "print('{:5s}{:>20s}'.format('Group', 'RMSE'))\n",
    "print(25*('-'))\n",
    "for fpth in predh_files:\n",
    "    sid = os.path.basename(fpth).split('_')[0].replace('Group', '')\n",
    "    hobj = flopy.utils.HeadFile(fpth)\n",
    "    h = hobj.get_data()\n",
    "    v = rmse(h, ph, well_locs)\n",
    "    print('{:5s}{:20g}'.format(sid, v))"
   ]
  },
  {
   "cell_type": "code",
   "execution_count": 18,
   "metadata": {},
   "outputs": [
    {
     "name": "stdout",
     "output_type": "stream",
     "text": [
      "Active Cells - Prediction\n",
      "Group                RMSE\n",
      "-------------------------\n",
      "A                0.796085\n",
      "B                0.966877\n",
      "C                0.626479\n",
      "D                0.596279\n",
      "E                0.246694\n",
      "F             3.76622e+28\n",
      "G                0.273047\n"
     ]
    }
   ],
   "source": [
    "print('Active Cells - Prediction')\n",
    "print('{:5s}{:>20s}'.format('Group', 'RMSE'))\n",
    "print(25*('-'))\n",
    "for fpth in predh_files:\n",
    "    sid = os.path.basename(fpth).split('_')[0].replace('Group', '')\n",
    "    hobj = flopy.utils.HeadFile(fpth)\n",
    "    h = hobj.get_data()\n",
    "    v = rmse(h, ph, active_locs)\n",
    "    print('{:5s}{:20g}'.format(sid, v))"
   ]
  },
  {
   "cell_type": "code",
   "execution_count": null,
   "metadata": {},
   "outputs": [],
   "source": []
  },
  {
   "cell_type": "code",
   "execution_count": null,
   "metadata": {},
   "outputs": [],
   "source": []
  }
 ],
 "metadata": {
  "kernelspec": {
   "display_name": "Python 3",
   "language": "python",
   "name": "python3"
  },
  "language_info": {
   "codemirror_mode": {
    "name": "ipython",
    "version": 3
   },
   "file_extension": ".py",
   "mimetype": "text/x-python",
   "name": "python",
   "nbconvert_exporter": "python",
   "pygments_lexer": "ipython3",
   "version": "3.6.5"
  }
 },
 "nbformat": 4,
 "nbformat_minor": 2
}
